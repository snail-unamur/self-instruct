{
 "cells": [
  {
   "cell_type": "code",
   "execution_count": 1,
   "metadata": {},
   "outputs": [],
   "source": [
    "from dataclasses import dataclass, fields, is_dataclass\n",
    "from typing import Dict, Any, Type, Callable, Optional\n",
    "\n",
    "\n",
    "def csv_row(file_path: str = None) -> Type[Any]:\n",
    "    \"\"\"\n",
    "    Decorator to enhance a dataclass with CSV row initialization and conversion capabilities.\n",
    "    Assumes that the class is a dataclass and that keys in the input dictionary match the dataclass fields.\n",
    "    \"\"\"\n",
    "    def decorator(cls: Type[Any]) -> Type[Any]:\n",
    "        if not isinstance(cls, type):\n",
    "            print(cls)\n",
    "            raise TypeError(\"Expected a class, got {}\".format(type(cls).__name__))\n",
    "        if not is_dataclass(cls):\n",
    "            cls = dataclass(cls)\n",
    "        \n",
    "        original_init = cls.__init__\n",
    "\n",
    "        def __init__(self, row: Dict[str, Any]):\n",
    "            \"\"\"\n",
    "            Initialize the dataclass with data from a CSV row.\n",
    "            \"\"\"\n",
    "            for field in fields(cls):\n",
    "                setattr(self, field.name, row.get(field.name, getattr(self, field.name, None)))\n",
    "            original_init(self, **{f.name: getattr(self, f.name) for f in fields(cls)})\n",
    "\n",
    "        cls.__init__ = __init__\n",
    "\n",
    "        def to_dict(self) -> Dict[str, Any]:\n",
    "            \"\"\"\n",
    "            Convert the dataclass back to a dictionary suitable for writing to a CSV file.\n",
    "            \"\"\"\n",
    "            return {field.name: getattr(self, field.name) for field in fields(self)}\n",
    "        \n",
    "        cls.to_dict = to_dict\n",
    "\n",
    "        cls.is_csv_row = True\n",
    "\n",
    "        cls.file_path = file_path\n",
    "\n",
    "        return cls\n",
    "    return decorator\n",
    "\n",
    "def is_csv_row(cls: Type[Any]) -> bool:\n",
    "    \"\"\"\n",
    "    Check if a class has been enhanced with the 'csv_row' decorator.\n",
    "    \"\"\"\n",
    "    return hasattr(cls, \"is_csv_row\") and cls.is_csv_row"
   ]
  },
  {
   "cell_type": "code",
   "execution_count": 2,
   "metadata": {},
   "outputs": [],
   "source": [
    "from typing import List\n",
    "import pandas as pd\n",
    "from functools import lru_cache\n",
    "\n",
    "class CSVLoader:\n",
    "    def __init__(self, dataclass, file_path: str=None, sep: str = \"\\t\"):\n",
    "        \"\"\"\n",
    "        Initialize with a dataclass type and a file path.\n",
    "        :param dataclass: The dataclass type to convert rows into.\n",
    "        :param file_path: The CSV file to read from.\n",
    "        \"\"\"\n",
    "        self.dataclass = dataclass\n",
    "        if file_path is not None:\n",
    "            self.file_path = file_path\n",
    "        elif hasattr(dataclass, \"file_path\"):\n",
    "            self.file_path = getattr(dataclass, \"file_path\")\n",
    "        else:\n",
    "            raise ValueError(\"No file path provided.\")\n",
    "        self.sep = sep\n",
    "\n",
    "    @lru_cache(maxsize=None)\n",
    "    def __load_df(self) -> pd.DataFrame:\n",
    "        \"\"\"\n",
    "        Load the CSV file into a DataFrame.\n",
    "        \"\"\"\n",
    "        df = pd.read_csv(self.file_path, sep=self.sep, header=0, skip_blank_lines=True)\n",
    "        return df[(df['Scenario ID'] <= 286) & (df['Reviewer ID'].isin([3]))]\n",
    "\n",
    "    def read(self) -> List:\n",
    "        \"\"\"\n",
    "        Read the CSV file and return a list of dataclass instances.\n",
    "        Each row in the DataFrame is converted into an instance of the specified dataclass.\n",
    "        \"\"\"\n",
    "        df = self.__load_df()\n",
    "        dict_rows = df.to_dict(orient='records')\n",
    "        dict_rows = [{k.lower().replace(\" \", \"_\").replace(\"-\", \"_\"): v for k, v in row.items()} for row in dict_rows]\n",
    "        return [self.dataclass(row) for row in dict_rows]\n",
    "    "
   ]
  },
  {
   "cell_type": "code",
   "execution_count": 3,
   "metadata": {},
   "outputs": [],
   "source": [
    "@csv_row()\n",
    "class ResultRow:\n",
    "    essential: int\n",
    "    singular: int\n",
    "    complete: int\n",
    "    integrous: int\n",
    "    high_quality: int"
   ]
  },
  {
   "cell_type": "code",
   "execution_count": 4,
   "metadata": {},
   "outputs": [],
   "source": [
    "mixed_quality_seed_results = CSVLoader(ResultRow, file_path=\"data/Annotation - Resolved MQ(286) - analysis.csv\", sep=\",\").read()\n",
    "high_quality_seed_results = CSVLoader(ResultRow, file_path=\"data/Annotation - Resolved HQ(286) - analysis.csv\", sep=\",\").read()"
   ]
  },
  {
   "cell_type": "code",
   "execution_count": 5,
   "metadata": {},
   "outputs": [],
   "source": [
    "#mixed_quality_seed_results"
   ]
  },
  {
   "cell_type": "code",
   "execution_count": 6,
   "metadata": {},
   "outputs": [],
   "source": [
    "from collections import Counter\n",
    "from typing import List, Dict\n",
    "from dataclasses import fields\n",
    "from math import isnan\n",
    "\n",
    "def count_quality_categories(results: List[ResultRow]) -> Dict[str, int]:\n",
    "    counts = Counter()\n",
    "    for result in results:\n",
    "        for field in fields(ResultRow):\n",
    "            r = getattr(result, field.name)\n",
    "            if isinstance(r, float):\n",
    "                if isnan(r):\n",
    "                    continue\n",
    "                r = int(r)\n",
    "                \n",
    "            counts[field.name] += r\n",
    "    return dict(counts)"
   ]
  },
  {
   "cell_type": "code",
   "execution_count": 7,
   "metadata": {},
   "outputs": [],
   "source": [
    "mixed_quality_seed_count = count_quality_categories(mixed_quality_seed_results)\n",
    "high_quality_seed_count = count_quality_categories(high_quality_seed_results)"
   ]
  },
  {
   "cell_type": "code",
   "execution_count": 8,
   "metadata": {},
   "outputs": [
    {
     "data": {
      "text/plain": [
       "{'essential': 242,\n",
       " 'singular': 218,\n",
       " 'complete': 257,\n",
       " 'integrous': 233,\n",
       " 'high_quality': 184}"
      ]
     },
     "execution_count": 8,
     "metadata": {},
     "output_type": "execute_result"
    }
   ],
   "source": [
    "high_quality_seed_count"
   ]
  },
  {
   "cell_type": "code",
   "execution_count": 9,
   "metadata": {},
   "outputs": [],
   "source": [
    "#mixed_quality_seed_count[\"essential\"] += 61"
   ]
  },
  {
   "cell_type": "code",
   "execution_count": 27,
   "metadata": {},
   "outputs": [],
   "source": [
    "from scipy.stats.contingency import odds_ratio\n",
    "from scipy.stats import fisher_exact\n",
    "\n",
    "\n",
    "\n",
    "# def fisher(control, treatment, field_name: str, n_total_control: int = 286, n_total_treatment: Optional[int] = None) -> float:\n",
    "def fisher(n_control, n_treatment, n_total_control: int = 286, n_total_treatment: Optional[int] = None) -> float:\n",
    "    if n_total_treatment is None:\n",
    "        n_total_treatment = n_total_control\n",
    "    # Create a 2x2 table\n",
    "    # columns are control and treatment\n",
    "    # rows are if the criteria is met or not\n",
    "    table = [\n",
    "        [n_treatment, n_control],\n",
    "        [n_total_treatment - n_treatment, n_total_control - n_control]\n",
    "    ]\n",
    "    _, pvalue = fisher_exact(table)\n",
    "    _odds_ratio = odds_ratio(table)\n",
    "    print(f\"|    | Treatment | Control |  |\")\n",
    "    print(\"| --- | --- | --- |\")\n",
    "    print(f\"| Met | {n_treatment} | {n_control} | \")\n",
    "    print(f\"| Not met | {n_total_treatment - n_treatment} | {n_total_control - n_control} | \")\n",
    "    ci = _odds_ratio.confidence_interval(confidence_level=0.95)\n",
    "    print(f\"OR = {_odds_ratio.statistic}\")\n",
    "    print(f\"OR (95% CI) = ({ci[0]:.2f}, {ci[1]:.2f})\")\n",
    "    print(f\"P-value: {pvalue:.3f}\")"
   ]
  },
  {
   "cell_type": "code",
   "execution_count": 28,
   "metadata": {},
   "outputs": [
    {
     "name": "stdout",
     "output_type": "stream",
     "text": [
      "essential\n",
      "|    | Treatment | Control |  |\n",
      "| --- | --- | --- |\n",
      "| Met | 242 | 234 | \n",
      "| Not met | 44 | 52 | \n",
      "OR = 1.2217937515249462\n",
      "OR (95% CI) = (0.77, 1.95)\n",
      "P-value: 0.434\n",
      "singular\n",
      "|    | Treatment | Control |  |\n",
      "| --- | --- | --- |\n",
      "| Met | 218 | 163 | \n",
      "| Not met | 68 | 123 | \n",
      "OR = 2.4153505410195963\n",
      "OR (95% CI) = (1.66, 3.53)\n",
      "P-value: 0.000\n",
      "complete\n",
      "|    | Treatment | Control |  |\n",
      "| --- | --- | --- |\n",
      "| Met | 257 | 262 | \n",
      "| Not met | 29 | 24 | \n",
      "OR = 0.8120880176539667\n",
      "OR (95% CI) = (0.44, 1.49)\n",
      "P-value: 0.564\n",
      "integrous\n",
      "|    | Treatment | Control |  |\n",
      "| --- | --- | --- |\n",
      "| Met | 233 | 136 | \n",
      "| Not met | 53 | 150 | \n",
      "OR = 4.834440625363863\n",
      "OR (95% CI) = (3.27, 7.22)\n",
      "P-value: 0.000\n",
      "high_quality\n",
      "|    | Treatment | Control |  |\n",
      "| --- | --- | --- |\n",
      "| Met | 184 | 117 | \n",
      "| Not met | 102 | 169 | \n",
      "OR = 2.601138718713788\n",
      "OR (95% CI) = (1.83, 3.71)\n",
      "P-value: 0.000\n"
     ]
    }
   ],
   "source": [
    "for field in fields(ResultRow):\n",
    "    n_mixed = mixed_quality_seed_count[field.name]\n",
    "    n_high = high_quality_seed_count[field.name]\n",
    "    print(field.name)\n",
    "    fisher(n_mixed, n_high)"
   ]
  },
  {
   "cell_type": "code",
   "execution_count": 29,
   "metadata": {},
   "outputs": [
    {
     "name": "stdout",
     "output_type": "stream",
     "text": [
      "|    | Treatment | Control |  |\n",
      "| --- | --- | --- |\n",
      "| Met | 359 | 222 | \n",
      "| Not met | 102 | 239 | \n",
      "OR = 3.783343303600302\n",
      "OR (95% CI) = (2.82, 5.10)\n",
      "P-value: 0.000\n"
     ]
    }
   ],
   "source": [
    "hm = 175 + 184\n",
    "mm = 105 + 117\n",
    "total = 461\n",
    "fisher(mm, hm,  total)\n"
   ]
  },
  {
   "cell_type": "code",
   "execution_count": null,
   "metadata": {},
   "outputs": [],
   "source": []
  }
 ],
 "metadata": {
  "kernelspec": {
   "display_name": "Python 3 (ipykernel)",
   "language": "python",
   "name": "python3"
  },
  "language_info": {
   "codemirror_mode": {
    "name": "ipython",
    "version": 3
   },
   "file_extension": ".py",
   "mimetype": "text/x-python",
   "name": "python",
   "nbconvert_exporter": "python",
   "pygments_lexer": "ipython3",
   "version": "3.10.12"
  }
 },
 "nbformat": 4,
 "nbformat_minor": 4
}
